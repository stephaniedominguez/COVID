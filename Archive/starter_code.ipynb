{
 "cells": [
  {
   "cell_type": "code",
   "execution_count": 2,
   "metadata": {},
   "outputs": [],
   "source": [
    "#Utility\n",
    "import urllib\n",
    "import os\n",
    "import datetime\n",
    "\n",
    "#Data Science\n",
    "import pandas as pd\n",
    "import seaborn as sns\n",
    "import numpy as np\n",
    "import matplotlib.pyplot as plt\n",
    "from hmmlearn import hmm\n",
    "\n",
    "#Google API\n",
    "#import google.auth\n",
    "#from google.cloud import bigquery\n",
    "#from google.cloud import bigquery_storage_v1beta2"
   ]
  },
  {
   "cell_type": "code",
   "execution_count": null,
   "metadata": {},
   "outputs": [],
   "source": [
    "#ACCOUNT IS SUSPENDED AT THE MOMENT ----------------------------------------------------\n",
    "#Big query, requires API json \n",
    "#pip install --upgrade google-cloud-bigquery[bqstorage,pandas]\n",
    "#pip install --upgrade google-auth\n",
    "#%load_ext google.cloud.bigquery\n",
    "#os.environ[\"GOOGLE_APPLICATION_CREDENTIALS\"]=\"Covid-19-be0adf05131c.json\"\n",
    "\n",
    "#%%bigquery jhu_summary\n",
    "#SELECT * FROM `bigquery-public-data.covid19_jhu_csse.summary`\n",
    "#jhu_summary['country_region'].value_counts()"
   ]
  },
  {
   "cell_type": "markdown",
   "metadata": {},
   "source": [
    "## Mobility"
   ]
  },
  {
   "cell_type": "code",
   "execution_count": 3,
   "metadata": {},
   "outputs": [
    {
     "name": "stderr",
     "output_type": "stream",
     "text": [
      "C:\\Users\\lueda\\Anaconda3\\lib\\site-packages\\IPython\\core\\interactiveshell.py:3051: DtypeWarning: Columns (3) have mixed types. Specify dtype option on import or set low_memory=False.\n",
      "  interactivity=interactivity, compiler=compiler, result=result)\n"
     ]
    }
   ],
   "source": [
    "#Import mobility from url\n",
    "url = 'https://www.gstatic.com/covid19/mobility/Global_Mobility_Report.csv'\n",
    "mobility = pd.read_csv(url)\n",
    "\n",
    "#Transform mobility to time series\n",
    "startdate = datetime.datetime.strptime('2020-02-15','%Y-%m-%d').date()\n",
    "enddate = datetime.datetime.strptime('2020-04-11','%Y-%m-%d').date()\n",
    "\n",
    "filterlist = ['retail_and_recreation_percent_change_from_baseline',\n",
    "'grocery_and_pharmacy_percent_change_from_baseline',\n",
    "'parks_percent_change_from_baseline',\n",
    "'transit_stations_percent_change_from_baseline',\n",
    "'workplaces_percent_change_from_baseline',\n",
    "'residential_percent_change_from_baseline']\n",
    "\n",
    "clist = ['retail_rec_mobility','grocery_pharmacy_mobility','parks_mobility','transit_mobility','workplaces_mobility','residential_mobility']"
   ]
  },
  {
   "cell_type": "code",
   "execution_count": 4,
   "metadata": {},
   "outputs": [],
   "source": [
    "country = mobility['country_region'].value_counts()\n",
    "countrylist = country.index.to_list()\n",
    "usmobility = mobility[mobility['country_region']=='United States']\n",
    "\n",
    "#Change column names\n",
    "usmobility = usmobility.rename(columns={\"sub_region_1\":\"Province_State\", \"sub_region_2\": \"Admin2\"})\n",
    "\n",
    "#Split county text out of county\n",
    "countylist = []\n",
    "txt = usmobility['Admin2'].to_list()\n",
    "for i in txt:\n",
    "    i = str(i)\n",
    "    countylist.append(i.replace(' County', ''))\n",
    "usmobility['Admin2'] = countylist\n",
    "\n",
    "usmobility['Lookup'] = usmobility['Admin2'] + usmobility['Province_State'] + usmobility['date']\n",
    "lookuplist = usmobility['Lookup'].to_list()\n",
    "usmobility = usmobility.transpose()\n",
    "usmobility.columns = lookuplist\n",
    "usmobility = usmobility.transpose()\n",
    "\n",
    "usmobility.loc[:,filterlist].astype(float)\n",
    "usmobility = usmobility.loc[:,filterlist]"
   ]
  },
  {
   "cell_type": "markdown",
   "metadata": {},
   "source": [
    "## Cases from John Hopkins"
   ]
  },
  {
   "cell_type": "code",
   "execution_count": 5,
   "metadata": {
    "code_folding": []
   },
   "outputs": [],
   "source": [
    "#Import confirmed cases from url\n",
    "confirmed = pd.read_csv(\"https://raw.githubusercontent.com/CSSEGISandData/COVID-19/master/csse_covid_19_data/csse_covid_19_time_series/time_series_covid19_confirmed_US.csv\")\n",
    "deaths = pd.read_csv(\"https://raw.githubusercontent.com/CSSEGISandData/COVID-19/master/csse_covid_19_data/csse_covid_19_time_series/time_series_covid19_deaths_US.csv\")\n",
    "recovered = pd.read_csv(\"https://raw.githubusercontent.com/CSSEGISandData/COVID-19/master/csse_covid_19_data/csse_covid_19_time_series/time_series_covid19_recovered_global.csv\")"
   ]
  },
  {
   "cell_type": "code",
   "execution_count": null,
   "metadata": {},
   "outputs": [],
   "source": []
  },
  {
   "cell_type": "code",
   "execution_count": 6,
   "metadata": {},
   "outputs": [],
   "source": [
    "df = confirmed.copy()\n",
    "df.columns\n",
    "xlist = ['UID', 'iso2', 'iso3', 'code3', 'FIPS','Country_Region', 'Lat', 'Long_','Combined_Key']\n",
    "\n",
    "df['Lookup'] = df['Admin2'] + df['Province_State']\n",
    "includelist = [x for x in df.columns if x not in xlist]\n",
    "datelist = includelist.copy()\n",
    "datelist.pop(0)\n",
    "datelist.pop(0)\n",
    "datelist.remove('Lookup')\n",
    "df = df.loc[:,includelist]\n",
    "\n",
    "lookuplist = df['Lookup'].to_list()\n",
    "df = df.transpose()\n",
    "df.columns = lookuplist\n",
    "df = df.transpose()\n",
    "lookuplist = df['Lookup'].value_counts().index.to_list()\n",
    "lookuplist = sorted(lookuplist)"
   ]
  },
  {
   "cell_type": "markdown",
   "metadata": {},
   "source": [
    "## Contructing Main Dataframe"
   ]
  },
  {
   "cell_type": "code",
   "execution_count": 7,
   "metadata": {},
   "outputs": [],
   "source": [
    "#Construction of maindf\n",
    "colnames = ['Lookup','State','County','Date','Confirmed','retail_and_recreation_percent_change_from_baseline',\n",
    "'grocery_and_pharmacy_percent_change_from_baseline',\n",
    "'parks_percent_change_from_baseline',\n",
    "'transit_stations_percent_change_from_baseline',\n",
    "'workplaces_percent_change_from_baseline',\n",
    "'residential_percent_change_from_baseline']\n",
    "maindf = pd.DataFrame(index=range(0,len(lookuplist)*len(datelist)), columns=colnames)\n",
    "\n",
    "#Start loop for confirmed\n",
    "j = 0\n",
    "for i in lookuplist:\n",
    "    testdf = df.loc[i,:]\n",
    "    timeseries = testdf[2:-1]\n",
    "    date = timeseries.index.to_list()\n",
    "    timeseries = timeseries.to_list()\n",
    "    length = len(timeseries)\n",
    "    maindf.iloc[j:(j+length),colnames.index('Lookup')] = i\n",
    "    maindf.iloc[j:(j+length),colnames.index('State')] = testdf[1]\n",
    "    maindf.iloc[j:(j+length),colnames.index('County')] = testdf[0]\n",
    "    maindf.iloc[j:(j+length),colnames.index('Date')] = date\n",
    "    maindf.iloc[j:(j+length),colnames.index('Confirmed')] = timeseries \n",
    "    j = j+length\n",
    "    \n",
    "maindf.loc[:,'Date1'] = pd.to_datetime(maindf['Date'],format='%m/%d/%y')\n",
    "#test = maindf['Date1'].astype(str).tolist()\n",
    "maindf['Lookup'] = maindf['Lookup'] + maindf['Date1'].astype(str).tolist()\n",
    "\n",
    "labels = maindf['Lookup'].to_list()\n",
    "maindf = maindf.transpose()\n",
    "maindf.columns = labels\n",
    "maindf = maindf.transpose()"
   ]
  },
  {
   "cell_type": "code",
   "execution_count": 8,
   "metadata": {},
   "outputs": [
    {
     "data": {
      "text/plain": [
       "0        222625\n",
       "1         15565\n",
       "2          8953\n",
       "3          6723\n",
       "4          5080\n",
       "          ...  \n",
       "1354          1\n",
       "3206          1\n",
       "1361          1\n",
       "1363          1\n",
       "32765         1\n",
       "Name: Confirmed, Length: 3058, dtype: int64"
      ]
     },
     "execution_count": 8,
     "metadata": {},
     "output_type": "execute_result"
    }
   ],
   "source": [
    "maindf.loc[:, \"Confirmed\"].value_counts()"
   ]
  },
  {
   "cell_type": "code",
   "execution_count": 16,
   "metadata": {},
   "outputs": [],
   "source": [
    "maindf.loc[:, \"state-county\"] = maindf.loc[:, \"State\"] + \"-\" + maindf.loc[:, \"County\"]\n",
    "maindf.to_csv(\"maindf.csv\", index = False)"
   ]
  }
 ],
 "metadata": {
  "kernelspec": {
   "display_name": "Python 3",
   "language": "python",
   "name": "python3"
  },
  "language_info": {
   "codemirror_mode": {
    "name": "ipython",
    "version": 3
   },
   "file_extension": ".py",
   "mimetype": "text/x-python",
   "name": "python",
   "nbconvert_exporter": "python",
   "pygments_lexer": "ipython3",
   "version": "3.7.6"
  },
  "toc": {
   "base_numbering": 1,
   "nav_menu": {},
   "number_sections": true,
   "sideBar": true,
   "skip_h1_title": false,
   "title_cell": "Table of Contents",
   "title_sidebar": "Contents",
   "toc_cell": false,
   "toc_position": {},
   "toc_section_display": true,
   "toc_window_display": false
  },
  "varInspector": {
   "cols": {
    "lenName": 16,
    "lenType": 16,
    "lenVar": 40
   },
   "kernels_config": {
    "python": {
     "delete_cmd_postfix": "",
     "delete_cmd_prefix": "del ",
     "library": "var_list.py",
     "varRefreshCmd": "print(var_dic_list())"
    },
    "r": {
     "delete_cmd_postfix": ") ",
     "delete_cmd_prefix": "rm(",
     "library": "var_list.r",
     "varRefreshCmd": "cat(var_dic_list()) "
    }
   },
   "types_to_exclude": [
    "module",
    "function",
    "builtin_function_or_method",
    "instance",
    "_Feature"
   ],
   "window_display": false
  }
 },
 "nbformat": 4,
 "nbformat_minor": 4
}
