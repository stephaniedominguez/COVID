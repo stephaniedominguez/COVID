{
 "cells": [
  {
   "cell_type": "code",
   "execution_count": 1,
   "metadata": {},
   "outputs": [],
   "source": [
    "import pandas as pd\n",
    "import numpy as np\n",
    "\n",
    "from matplotlib import pyplot as plt\n",
    "from matplotlib.dates import date2num, num2date\n",
    "from matplotlib import dates as mdates\n",
    "from matplotlib import ticker\n",
    "from matplotlib.colors import ListedColormap\n",
    "from matplotlib.patches import Patch\n",
    "\n",
    "from scipy import stats as sps\n",
    "from scipy.interpolate import interp1d\n",
    "\n",
    "from IPython.display import clear_output"
   ]
  },
  {
   "cell_type": "markdown",
   "metadata": {},
   "source": [
    "Maindf is loaded, dates are parsed, and index is declared as a combination of state, county, and date"
   ]
  },
  {
   "cell_type": "code",
   "execution_count": 2,
   "metadata": {},
   "outputs": [],
   "source": [
    "rt_df = pd.read_csv(\"maindf.csv\", \n",
    "                    usecols = [\"state-county\", \"Date\", \"Confirmed\"], \n",
    "                    parse_dates=[\"Date\"],\n",
    "                    index_col = [\"state-county\", \"Date\"],\n",
    "                    squeeze = True).sort_index()"
   ]
  },
  {
   "cell_type": "markdown",
   "metadata": {},
   "source": [
    "Search spaces are defined for likely values of rt. Gamma (a constant used in the likelihood function) is declared as 1/7 according to CDC and WHO findings"
   ]
  },
  {
   "cell_type": "code",
   "execution_count": 3,
   "metadata": {},
   "outputs": [],
   "source": [
    "\"\"\"\n",
    "The following section is an adaptation of Kevin Systrom's script for\n",
    "calculating Rt for Covid19 (Systrom, 2020). The following adaptations were made:\n",
    "\n",
    "Value for the maximum rt to evaluate was changed to 5 to allow for faster\n",
    "times during use of the algorithm.\n",
    "\n",
    "Cutoff point for minimum new cases was decreased to 5 since less cases are \n",
    "observed at a county level.\n",
    "\n",
    "\"\"\"\n",
    "\n",
    "R_T_MAX = 5\n",
    "r_t_range = np.linspace(0, R_T_MAX, R_T_MAX*100+1)\n",
    "GAMMA = 1/7"
   ]
  },
  {
   "cell_type": "markdown",
   "metadata": {},
   "source": [
    "A cutoff of at least 25 cases is chosen. A smoothed version of each time series is created"
   ]
  },
  {
   "cell_type": "code",
   "execution_count": 4,
   "metadata": {},
   "outputs": [],
   "source": [
    "def prepare_cases(cases, cutoff=25):\n",
    "    new_cases = cases.diff()\n",
    "\n",
    "    smoothed = new_cases.rolling(7,\n",
    "        win_type='gaussian',\n",
    "        min_periods=1,\n",
    "        center=True).mean(std=2).round()\n",
    "    \n",
    "    idx_start = np.searchsorted(smoothed, cutoff)\n",
    "    \n",
    "    smoothed = smoothed.iloc[idx_start:]\n",
    "    original = new_cases.loc[smoothed.index]\n",
    "    \n",
    "    return original, smoothed"
   ]
  },
  {
   "cell_type": "markdown",
   "metadata": {},
   "source": [
    "The next function applies a bayesian model for finding Rt in the absence of an optimized sigma, it provides .15 as a default"
   ]
  },
  {
   "cell_type": "code",
   "execution_count": 5,
   "metadata": {},
   "outputs": [],
   "source": [
    "def get_posteriors(sr, sigma=0.15):\n",
    "\n",
    "    lam = sr[:-1].values * np.exp(GAMMA * (r_t_range[:, None] - 1))\n",
    "\n",
    "    \n",
    "    likelihoods = pd.DataFrame(\n",
    "        data = sps.poisson.pmf(sr[1:].values, lam),\n",
    "        index = r_t_range,\n",
    "        columns = sr.index[1:])\n",
    "    \n",
    "    \n",
    "    process_matrix = sps.norm(loc=r_t_range,\n",
    "                              scale=sigma\n",
    "                             ).pdf(r_t_range[:, None]) \n",
    "\n",
    "    \n",
    "    process_matrix /= process_matrix.sum(axis=0)\n",
    "    \n",
    "    prior0 = np.ones_like(r_t_range)/len(r_t_range)\n",
    "    prior0 /= prior0.sum()\n",
    "\n",
    "    posteriors = pd.DataFrame(\n",
    "        index=r_t_range,\n",
    "        columns=sr.index,\n",
    "        data={sr.index[0]: prior0}\n",
    "    )\n",
    "    \n",
    "    log_likelihood = 0.0\n",
    "\n",
    "    for previous_day, current_day in zip(sr.index[:-1], sr.index[1:]):\n",
    "\n",
    "        \n",
    "        current_prior = process_matrix @ posteriors[previous_day]\n",
    "        \n",
    "        \n",
    "        numerator = likelihoods[current_day] * current_prior\n",
    "        \n",
    "        \n",
    "        denominator = np.sum(numerator)\n",
    "        \n",
    "        \n",
    "        posteriors[current_day] = numerator/denominator\n",
    "        \n",
    "        \n",
    "        log_likelihood += np.log(denominator)\n",
    "    \n",
    "    return posteriors, log_likelihood"
   ]
  },
  {
   "cell_type": "markdown",
   "metadata": {},
   "source": [
    "The next process finds an optimal sigma for each state-county combination, and performs the Rt calculation for every sigma"
   ]
  },
  {
   "cell_type": "code",
   "execution_count": 28,
   "metadata": {},
   "outputs": [
    {
     "name": "stdout",
     "output_type": "stream",
     "text": [
      "Wyoming-Uinta\n",
      "Wyoming-Unassigned\n",
      "Wyoming-Washakie\n",
      "Wyoming-Weston\n",
      "Done.\n"
     ]
    }
   ],
   "source": [
    "sigmas = np.linspace(1/20, 1, 20)\n",
    "\n",
    "results = {}\n",
    "\n",
    "for state_name, cases in rt_df.groupby(level='state-county'):\n",
    "    \n",
    "    print(state_name)\n",
    "    new, smoothed = prepare_cases(cases, cutoff=5)\n",
    "    \n",
    "    if len(smoothed) == 0:\n",
    "        \n",
    "        continue\n",
    "    \n",
    "    result = {}\n",
    "    \n",
    "    result['posteriors'] = []\n",
    "    \n",
    "    result['log_likelihoods'] = []\n",
    "    \n",
    "    for sigma in sigmas:\n",
    "        posteriors, log_likelihood = get_posteriors(smoothed, sigma=sigma)\n",
    "        result['posteriors'].append(posteriors)\n",
    "        result['log_likelihoods'].append(log_likelihood)\n",
    "    \n",
    "    results[state_name] = result\n",
    "    clear_output(wait=True)\n",
    "\n",
    "print('Done.')"
   ]
  },
  {
   "cell_type": "markdown",
   "metadata": {},
   "source": [
    "The optimal value of sigma is identified "
   ]
  },
  {
   "cell_type": "code",
   "execution_count": 29,
   "metadata": {},
   "outputs": [],
   "source": [
    "total_log_likelihoods = np.zeros_like(sigmas)\n",
    "\n",
    "for state_name, result in results.items():\n",
    "    total_log_likelihoods += result['log_likelihoods']\n",
    "\n",
    "max_likelihood_index = total_log_likelihoods.argmax()\n",
    "\n",
    "sigma = sigmas[max_likelihood_index]"
   ]
  },
  {
   "cell_type": "markdown",
   "metadata": {},
   "source": [
    "The final result for each state is then extracted from the posteriors' matrix"
   ]
  },
  {
   "cell_type": "code",
   "execution_count": 30,
   "metadata": {},
   "outputs": [
    {
     "name": "stdout",
     "output_type": "stream",
     "text": [
      "Done.\n"
     ]
    }
   ],
   "source": [
    "final_results = None\n",
    "\n",
    "for state_name, result in results.items():\n",
    "    print(state_name)\n",
    "    posteriors = result['posteriors'][max_likelihood_index]\n",
    "    most_likely = posteriors.idxmax().rename('ML')\n",
    "    result = pd.concat([most_likely], axis=1)\n",
    "    if final_results is None:\n",
    "        final_results = result\n",
    "    else:\n",
    "        final_results = pd.concat([final_results, result])\n",
    "    clear_output(wait=True)\n",
    "\n",
    "print('Done.')"
   ]
  },
  {
   "cell_type": "code",
   "execution_count": 50,
   "metadata": {},
   "outputs": [],
   "source": [
    "final_results.to_csv(\"final_results.csv\")"
   ]
  },
  {
   "cell_type": "code",
   "execution_count": 6,
   "metadata": {},
   "outputs": [],
   "source": [
    "final_results = pd.read_csv(\"final_results.csv\")"
   ]
  },
  {
   "cell_type": "code",
   "execution_count": 23,
   "metadata": {},
   "outputs": [],
   "source": [
    "state = []\n",
    "\n",
    "county = []\n",
    "\n",
    "for row in range(0, len(final_results.index)):\n",
    "    \n",
    "    state.append(final_results.loc[row, \"state-county\"].split(\"-\")[0])\n",
    "    \n",
    "    county.append(final_results.loc[row, \"state-county\"].split(\"-\")[1])\n",
    "    \n",
    "final_results.loc[:, \"state\"] = state\n",
    "\n",
    "final_results.loc[:, \"county\"] = county"
   ]
  },
  {
   "cell_type": "code",
   "execution_count": 25,
   "metadata": {},
   "outputs": [],
   "source": [
    "final_results.to_csv(\"final_results.csv\")\n",
    "\n",
    "\"\"\"\n",
    "REFERENCES\n",
    "\n",
    "Systrom, K. (2020) Estimating COVID-19's Rt in Real-Time. Retrieved from https://github.com/k-sys/covid-19/blob/master/Realtime%20R0.ipynb on 04/20/2020\n",
    "\n",
    "\"\"\""
   ]
  }
 ],
 "metadata": {
  "kernelspec": {
   "display_name": "Python 3",
   "language": "python",
   "name": "python3"
  },
  "language_info": {
   "codemirror_mode": {
    "name": "ipython",
    "version": 3
   },
   "file_extension": ".py",
   "mimetype": "text/x-python",
   "name": "python",
   "nbconvert_exporter": "python",
   "pygments_lexer": "ipython3",
   "version": "3.7.6"
  },
  "toc": {
   "base_numbering": 1,
   "nav_menu": {},
   "number_sections": true,
   "sideBar": true,
   "skip_h1_title": false,
   "title_cell": "Table of Contents",
   "title_sidebar": "Contents",
   "toc_cell": false,
   "toc_position": {},
   "toc_section_display": true,
   "toc_window_display": false
  },
  "varInspector": {
   "cols": {
    "lenName": 16,
    "lenType": 16,
    "lenVar": 40
   },
   "kernels_config": {
    "python": {
     "delete_cmd_postfix": "",
     "delete_cmd_prefix": "del ",
     "library": "var_list.py",
     "varRefreshCmd": "print(var_dic_list())"
    },
    "r": {
     "delete_cmd_postfix": ") ",
     "delete_cmd_prefix": "rm(",
     "library": "var_list.r",
     "varRefreshCmd": "cat(var_dic_list()) "
    }
   },
   "types_to_exclude": [
    "module",
    "function",
    "builtin_function_or_method",
    "instance",
    "_Feature"
   ],
   "window_display": false
  }
 },
 "nbformat": 4,
 "nbformat_minor": 2
}
